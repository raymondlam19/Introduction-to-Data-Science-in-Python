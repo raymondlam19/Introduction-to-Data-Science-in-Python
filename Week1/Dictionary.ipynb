{
 "cells": [
  {
   "cell_type": "code",
   "execution_count": 8,
   "metadata": {},
   "outputs": [
    {
     "name": "stdout",
     "output_type": "stream",
     "text": [
      "n\n"
     ]
    }
   ],
   "source": [
    "x = \"This is a string\"\n",
    "print (x[-2])"
   ]
  },
  {
   "cell_type": "code",
   "execution_count": 12,
   "metadata": {},
   "outputs": [
    {
     "name": "stdout",
     "output_type": "stream",
     "text": [
      "Lam\n",
      "Kit\n"
     ]
    }
   ],
   "source": [
    "firstname = 'Lam Wai Kit'.split(' ')[0]\n",
    "print(firstname)\n",
    "lastname = 'Lam Wai Kit'.split(' ')[-1]\n",
    "print(lastname)"
   ]
  },
  {
   "cell_type": "code",
   "execution_count": 34,
   "metadata": {},
   "outputs": [
    {
     "name": "stdout",
     "output_type": "stream",
     "text": [
      "A@gmai.com\n",
      "\n",
      "Student A\n",
      "A@gmai.com\n",
      "Student B\n",
      "B@gmai.com\n",
      "Student C\n",
      "None\n",
      "dict_values(['A@gmai.com', 'B@gmai.com', None])\n",
      "A@gmai.com\n",
      "B@gmai.com\n",
      "None\n",
      "{'Student A': 'A@gmai.com', 'Student B': 'B@gmai.com', 'Student C': None}\n",
      "dict_items([('Student A', 'A@gmai.com'), ('Student B', 'B@gmai.com'), ('Student C', None)])\n",
      "Student A\n",
      "A@gmai.com\n",
      "Student B\n",
      "B@gmai.com\n",
      "Student C\n",
      "None\n"
     ]
    }
   ],
   "source": [
    "x = {\"Student A\": \"A@gmai.com\", \"Student B\": \"B@gmai.com\"}\n",
    "x[\"Student C\"] = None\n",
    "print(x[\"Student A\"]+\"\\n\")\n",
    "\n",
    "for name in x:\n",
    "    print(name)\n",
    "    print(x[name])\n",
    "\n",
    "print(x.values())\n",
    "for email in x.values():\n",
    "    print(email)\n",
    "\n",
    "print(x)\n",
    "print(x.items())\n",
    "for name, email in x.items():\n",
    "    print(name)\n",
    "    print(email)"
   ]
  },
  {
   "cell_type": "code",
   "execution_count": 36,
   "metadata": {},
   "outputs": [
    {
     "name": "stdout",
     "output_type": "stream",
     "text": [
      "Raymond\n",
      "Lam\n",
      "raymondlam@gmail.com\n"
     ]
    }
   ],
   "source": [
    "x = ('Raymond', 'Lam', 'raymondlam@gmail.com')\n",
    "firstname, lastname, email = x\n",
    "print(firstname)\n",
    "print(lastname)\n",
    "print(email)"
   ]
  },
  {
   "cell_type": "code",
   "execution_count": null,
   "metadata": {},
   "outputs": [],
   "source": []
  }
 ],
 "metadata": {
  "kernelspec": {
   "display_name": "Python 3",
   "language": "python",
   "name": "python3"
  },
  "language_info": {
   "codemirror_mode": {
    "name": "ipython",
    "version": 3
   },
   "file_extension": ".py",
   "mimetype": "text/x-python",
   "name": "python",
   "nbconvert_exporter": "python",
   "pygments_lexer": "ipython3",
   "version": "3.6.8"
  }
 },
 "nbformat": 4,
 "nbformat_minor": 2
}
